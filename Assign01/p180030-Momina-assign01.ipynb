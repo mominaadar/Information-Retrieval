{
 "cells": [
  {
   "cell_type": "code",
   "execution_count": 338,
   "metadata": {},
   "outputs": [],
   "source": [
    "from sklearn.feature_extraction.text import TfidfVectorizer\n",
    "import numpy as np"
   ]
  },
  {
   "cell_type": "code",
   "execution_count": 352,
   "metadata": {},
   "outputs": [],
   "source": [
    "doc1 = \"petrol cars are cheaper than diesel cars\"\n",
    "doc2 = \"diesel is cheaper than petrol\"\n",
    "doc3 = \"the price of petrol has increased by 10 percent\"\n",
    "doc4 = \"a survey shows petrol cars are preffered by people than cars operated on diesel\"\n",
    "doc5 = \"Honda manufacture diesel cars\"\n",
    "doc6 = \"Cost of diesel cars is higher than cost of petrol cars\"\n",
    "doc7 = \"the oil price has increased world-wide\"\n",
    "doc8 = \"cars manufactured by tesla does not require petrol or diesel to operate\"\n",
    "doc9 = \"motorbikes as well as cars operate on petrol\"\n",
    "doc10 = \"Cars are one product of Honda company\""
   ]
  },
  {
   "cell_type": "code",
   "execution_count": 353,
   "metadata": {},
   "outputs": [],
   "source": [
    "doc_corpus = [doc1, doc2, doc3, doc4, doc5, doc6, doc7, doc8, doc9, doc10]\n",
    "doc_vec = TfidfVectorizer(stop_words='english')\n",
    "matrix = doc_vec.fit_transform(doc_corpus)"
   ]
  },
  {
   "cell_type": "code",
   "execution_count": 361,
   "metadata": {},
   "outputs": [
    {
     "name": "stdout",
     "output_type": "stream",
     "text": [
      "Feature names n ['10' 'cars' 'cheaper' 'company' 'cost' 'diesel' 'does' 'higher' 'honda'\n",
      " 'increased' 'manufacture' 'manufactured' 'motorbikes' 'oil' 'operate'\n",
      " 'operated' 'people' 'percent' 'petrol' 'preffered' 'price' 'product'\n",
      " 'require' 'shows' 'survey' 'tesla' 'wide' 'world']\n"
     ]
    }
   ],
   "source": [
    "doc_vector = doc_vec.get_feature_names_out()\n",
    "print(\"Feature names n\",doc_vec.get_feature_names_out())\n",
    "\n",
    "# print(\"Sparse matrix n\", matrix.shape,\"n\",matrix.toarray())\n",
    "doc_matrix = matrix.toarray()"
   ]
  },
  {
   "cell_type": "code",
   "execution_count": 362,
   "metadata": {},
   "outputs": [],
   "source": [
    "query = \"current price of petrol\"\n",
    "query_corpus = [query]\n",
    "query_vec = TfidfVectorizer(stop_words='english')\n",
    "matrix2 = query_vec.fit_transform(query_corpus)"
   ]
  },
  {
   "cell_type": "code",
   "execution_count": 363,
   "metadata": {},
   "outputs": [
    {
     "name": "stdout",
     "output_type": "stream",
     "text": [
      "Feature names n ['current' 'petrol' 'price']\n"
     ]
    }
   ],
   "source": [
    "query_vector = query_vec.get_feature_names_out()\n",
    "print(\"Feature names n\",query_vector)\n",
    "\n",
    "# print(\"Sparse matrix n\", matrix2.shape,\"n\",matrix2.toarray())\n",
    "query_matrix = matrix2.toarray()"
   ]
  },
  {
   "cell_type": "code",
   "execution_count": 364,
   "metadata": {},
   "outputs": [],
   "source": [
    "def cosine_sim(doc, i, q_vec, q_matrix, d_vec, d_matrix):\n",
    "    rank = []\n",
    "    sum_ = 0 \n",
    "    \n",
    "    for q_i, q_term in enumerate(q_vec):\n",
    "            \n",
    "        for d_i, doc_term in enumerate(d_vec):\n",
    "            \n",
    "            if q_term in d_vec:\n",
    "                if q_term == doc_term:\n",
    "                    sum_ += q_matrix[0][q_i]*d_matrix[i][d_i]\n",
    "\n",
    "    return sum_"
   ]
  },
  {
   "cell_type": "code",
   "execution_count": 365,
   "metadata": {},
   "outputs": [
    {
     "data": {
      "text/plain": [
       "{1: 0.1897896903914372,\n",
       " 2: 0.2518783282416388,\n",
       " 3: 0.402395354125313,\n",
       " 4: 0.11058980964105011,\n",
       " 5: 0.0,\n",
       " 6: 0.11058980964105011,\n",
       " 7: 0.23278442384539005,\n",
       " 8: 0.12015633607389045,\n",
       " 9: 0.18983429840381902,\n",
       " 10: 0.0}"
      ]
     },
     "execution_count": 365,
     "metadata": {},
     "output_type": "execute_result"
    }
   ],
   "source": [
    "# Ranking documents\n",
    "\n",
    "dic = {}\n",
    "for i in range(len(doc_corpus)):\n",
    "    \n",
    "    rank = cosine_sim(doc_corpus[i], i, query_vector, query_matrix, doc_vector, doc_matrix)\n",
    "    dic[i+1] = rank\n",
    "    \n",
    "dic"
   ]
  },
  {
   "cell_type": "code",
   "execution_count": 366,
   "metadata": {},
   "outputs": [
    {
     "data": {
      "text/plain": [
       "{3: 0.402395354125313,\n",
       " 2: 0.2518783282416388,\n",
       " 7: 0.23278442384539005,\n",
       " 9: 0.18983429840381902,\n",
       " 1: 0.1897896903914372,\n",
       " 8: 0.12015633607389045,\n",
       " 4: 0.11058980964105011,\n",
       " 6: 0.11058980964105011,\n",
       " 5: 0.0,\n",
       " 10: 0.0}"
      ]
     },
     "execution_count": 366,
     "metadata": {},
     "output_type": "execute_result"
    }
   ],
   "source": [
    "# Sorting rank\n",
    "\n",
    "{k: v for k, v in sorted(dic.items(), reverse=True, key=lambda item: item[1])}"
   ]
  },
  {
   "cell_type": "markdown",
   "metadata": {},
   "source": [
    "## APPENDING A DOCUMENT WITH ITSELF\n"
   ]
  },
  {
   "cell_type": "code",
   "execution_count": 373,
   "metadata": {},
   "outputs": [],
   "source": [
    "\n",
    "doc1 = \"petrol cars are cheaper than diesel cars\"\n",
    "doc2 = \"diesel is cheaper than petrol\"\n",
    "doc3 = \"the price of petrol has increased by 10 percent\"\n",
    "doc4 = \"a survey shows petrol cars are preffered by people than cars operated on diesel\"\n",
    "doc5 = \"Honda manufacture diesel cars\"\n",
    "doc6 = \"Cost of diesel cars is higher than cost of petrol cars\"\n",
    "doc7 = \"the oil price has increased world-wide the oil price has increased world-wide\"  # appended document\n",
    "doc8 = \"cars manufactured by tesla does not require petrol or diesel to operate\"\n",
    "doc9 = \"motorbikes as well as cars operate on petrol\"\n",
    "doc10 = \"Cars are one product of Honda company\"\n",
    "\n"
   ]
  },
  {
   "cell_type": "code",
   "execution_count": 374,
   "metadata": {},
   "outputs": [],
   "source": [
    "doc_corpus = [doc1, doc2, doc3, doc4, doc5, doc6, doc7, doc8, doc9, doc10]\n",
    "doc_vec = TfidfVectorizer(stop_words='english')\n",
    "matrix = doc_vec.fit_transform(doc_corpus)"
   ]
  },
  {
   "cell_type": "code",
   "execution_count": 375,
   "metadata": {},
   "outputs": [
    {
     "name": "stdout",
     "output_type": "stream",
     "text": [
      "Feature names n ['10' 'cars' 'cheaper' 'company' 'cost' 'diesel' 'does' 'higher' 'honda'\n",
      " 'increased' 'manufacture' 'manufactured' 'motorbikes' 'oil' 'operate'\n",
      " 'operated' 'people' 'percent' 'petrol' 'preffered' 'price' 'product'\n",
      " 'require' 'shows' 'survey' 'tesla' 'wide' 'world']\n"
     ]
    }
   ],
   "source": [
    "doc_vector = doc_vec.get_feature_names_out()\n",
    "print(\"Feature names n\",doc_vec.get_feature_names_out())\n",
    "\n",
    "\n",
    "# print(\"Sparse matrix n\", matrix.shape,\"n\",matrix.toarray())\n",
    "doc_matrix = matrix.toarray()"
   ]
  },
  {
   "cell_type": "code",
   "execution_count": 376,
   "metadata": {},
   "outputs": [],
   "source": [
    "query = \"current price of petrol\"\n",
    "query_corpus = [query]\n",
    "query_vec = TfidfVectorizer(stop_words='english')\n",
    "matrix2 = query_vec.fit_transform(query_corpus)"
   ]
  },
  {
   "cell_type": "code",
   "execution_count": 377,
   "metadata": {},
   "outputs": [
    {
     "name": "stdout",
     "output_type": "stream",
     "text": [
      "Feature names n ['current' 'petrol' 'price']\n"
     ]
    }
   ],
   "source": [
    "query_vector = query_vec.get_feature_names_out()\n",
    "print(\"Feature names n\",query_vector)\n",
    "\n",
    "# print(\"Sparse matrix n\", matrix2.shape,\"n\",matrix2.toarray())\n",
    "query_matrix = matrix2.toarray()"
   ]
  },
  {
   "cell_type": "code",
   "execution_count": 378,
   "metadata": {},
   "outputs": [],
   "source": [
    "def cosine_sim(doc, i, q_vec, q_matrix, d_vec, d_matrix):\n",
    "    rank = []\n",
    "    sum_ = 0 \n",
    "    \n",
    "    for q_i, q_term in enumerate(q_vec):\n",
    "            \n",
    "        for d_i, doc_term in enumerate(d_vec):\n",
    "            \n",
    "            if q_term in d_vec:\n",
    "                if q_term == doc_term:\n",
    "                    sum_ += q_matrix[0][q_i]*d_matrix[i][d_i]\n",
    "\n",
    "    return sum_"
   ]
  },
  {
   "cell_type": "code",
   "execution_count": 379,
   "metadata": {},
   "outputs": [
    {
     "data": {
      "text/plain": [
       "{1: 0.1897896903914372,\n",
       " 2: 0.2518783282416388,\n",
       " 3: 0.402395354125313,\n",
       " 4: 0.11058980964105011,\n",
       " 5: 0.0,\n",
       " 6: 0.11058980964105011,\n",
       " 7: 0.23278442384539005,\n",
       " 8: 0.12015633607389045,\n",
       " 9: 0.18983429840381902,\n",
       " 10: 0.0}"
      ]
     },
     "execution_count": 379,
     "metadata": {},
     "output_type": "execute_result"
    }
   ],
   "source": [
    "# Ranking documents\n",
    "\n",
    "dic = {}\n",
    "for i in range(len(doc_corpus)):\n",
    "    \n",
    "    rank = cosine_sim(doc_corpus[i], i, query_vector, query_matrix, doc_vector, doc_matrix)\n",
    "    dic[i+1] = rank\n",
    "    \n",
    "dic"
   ]
  },
  {
   "cell_type": "code",
   "execution_count": 380,
   "metadata": {},
   "outputs": [
    {
     "data": {
      "text/plain": [
       "{3: 0.402395354125313,\n",
       " 2: 0.2518783282416388,\n",
       " 7: 0.23278442384539005,\n",
       " 9: 0.18983429840381902,\n",
       " 1: 0.1897896903914372,\n",
       " 8: 0.12015633607389045,\n",
       " 4: 0.11058980964105011,\n",
       " 6: 0.11058980964105011,\n",
       " 5: 0.0,\n",
       " 10: 0.0}"
      ]
     },
     "execution_count": 380,
     "metadata": {},
     "output_type": "execute_result"
    }
   ],
   "source": [
    "# Sorting rank\n",
    "\n",
    "{k: v for k, v in sorted(dic.items(), reverse=True, key=lambda item: item[1])}"
   ]
  },
  {
   "cell_type": "code",
   "execution_count": null,
   "metadata": {},
   "outputs": [],
   "source": [
    "# COMAPRISON OF SINGLE DOCUMENT AND APPENDED DOCUMENT\n",
    "\n",
    "# The cosine similarity value of both documents is same (0.23278) because while calculating TF-IDF normalization is\n",
    "# performed and both documents give same normalized value. So same cosime similarity is achieved."
   ]
  }
 ],
 "metadata": {
  "kernelspec": {
   "display_name": "Python 3",
   "language": "python",
   "name": "python3"
  },
  "language_info": {
   "codemirror_mode": {
    "name": "ipython",
    "version": 3
   },
   "file_extension": ".py",
   "mimetype": "text/x-python",
   "name": "python",
   "nbconvert_exporter": "python",
   "pygments_lexer": "ipython3",
   "version": "3.7.4"
  }
 },
 "nbformat": 4,
 "nbformat_minor": 2
}
