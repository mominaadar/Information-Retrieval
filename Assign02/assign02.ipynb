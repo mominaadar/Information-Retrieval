{
 "cells": [
  {
   "cell_type": "code",
   "execution_count": 480,
   "metadata": {},
   "outputs": [],
   "source": [
    "# libraries\n",
    "\n",
    "import csv\n",
    "from nltk.corpus import stopwords\n",
    "from nltk.tokenize import word_tokenize\n",
    "import nltk\n",
    "from stop_words import get_stop_words\n",
    "from collections import Counter\n",
    "import math\n",
    "\n",
    "import matplotlib.pyplot as plt\n",
    "\n",
    "from sklearn.metrics import ConfusionMatrixDisplay\n",
    "from sklearn.metrics import confusion_matrix\n",
    "\n",
    "from sklearn.metrics import precision_score, recall_score, f1_score, accuracy_score"
   ]
  },
  {
   "cell_type": "markdown",
   "metadata": {},
   "source": [
    "## Training"
   ]
  },
  {
   "cell_type": "code",
   "execution_count": 288,
   "metadata": {},
   "outputs": [],
   "source": [
    "# reading tsv file\n",
    "\n",
    "tsv_file = open(\"film-genres-train.tsv\", encoding='utf-8')\n",
    "read_tsv = csv.reader(tsv_file, delimiter=\"\\t\")"
   ]
  },
  {
   "cell_type": "code",
   "execution_count": 289,
   "metadata": {},
   "outputs": [],
   "source": [
    "# enhancing the list of stopwords\n",
    "\n",
    "stop_words = list(get_stop_words('en'))  \n",
    "nltk_words = list(stopwords.words('english'))\n",
    "stop_words.extend(nltk_words)"
   ]
  },
  {
   "cell_type": "code",
   "execution_count": 290,
   "metadata": {},
   "outputs": [],
   "source": [
    "# removing stopwords and tokenizing\n",
    "\n",
    "data = []\n",
    "\n",
    "for row in read_tsv:\n",
    "    \n",
    "    desc = row[1]\n",
    "    tokenizer = nltk.RegexpTokenizer(r\"\\w+\")\n",
    "    text_tokens = tokenizer.tokenize(desc)\n",
    "    \n",
    "    tokens_without_sw = [word for word in text_tokens if word.lower() not in stop_words]  # if word.lower() condition to remove words like 'An/an', 'The/the'\n",
    "    \n",
    "    row[1] = tokens_without_sw\n",
    "    \n",
    "    data.append(row)"
   ]
  },
  {
   "cell_type": "code",
   "execution_count": 291,
   "metadata": {},
   "outputs": [],
   "source": [
    "# counting occurences of genres\n",
    "\n",
    "total_horror_genre, total_comedy_genre, total_drama_genre, total_doc_genre, total_western_genre = 0,0,0,0,0\n",
    "\n",
    "for i in data:\n",
    "    if i[0] == 'Horror':\n",
    "        total_horror_genre += 1\n",
    "    if i[0] == 'Drama':\n",
    "        total_drama_genre += 1\n",
    "    if i[0] == 'Comedy':\n",
    "        total_comedy_genre += 1\n",
    "    if i[0] == 'Documentary':\n",
    "        total_doc_genre += 1\n",
    "    if i[0] == 'Western':\n",
    "        total_western_genre += 1"
   ]
  },
  {
   "cell_type": "code",
   "execution_count": 292,
   "metadata": {},
   "outputs": [],
   "source": [
    "# probs of genres occuring in the dataset\n",
    "\n",
    "total_rows = total_horror_genre+total_comedy_genre+total_drama_genre+total_western_genre+total_doc_genre\n",
    "\n",
    "total_horror_genre = total_horror_genre/total_rows\n",
    "total_comedy_genre = total_comedy_genre/total_rows\n",
    "total_drama_genre = total_drama_genre/total_rows\n",
    "total_doc_genre = total_doc_genre/total_rows\n",
    "total_western_genre = total_western_genre/total_rows"
   ]
  },
  {
   "cell_type": "code",
   "execution_count": 297,
   "metadata": {},
   "outputs": [
    {
     "data": {
      "text/plain": [
       "(0.053237939923194276,\n",
       " 0.24404229575464254,\n",
       " 0.4858751117891525,\n",
       " 0.05686779946341207,\n",
       " 0.1599768530695986)"
      ]
     },
     "execution_count": 297,
     "metadata": {},
     "output_type": "execute_result"
    }
   ],
   "source": [
    "total_horror_genre, total_comedy_genre, total_drama_genre, total_western_genre, total_doc_genre"
   ]
  },
  {
   "cell_type": "code",
   "execution_count": 294,
   "metadata": {},
   "outputs": [],
   "source": [
    "# putting all the words of each genre in one place\n",
    "\n",
    "all_horror, all_comedy, all_drama, all_western, all_doc = [],[],[],[],[]\n",
    "\n",
    "for i in all_terms_horror:\n",
    "    for j in i:\n",
    "        all_horror.append(j)\n",
    "        \n",
    "for i in all_terms_comedy:\n",
    "    for j in i:\n",
    "        all_comedy.append(j)\n",
    "        \n",
    "for i in all_terms_western:\n",
    "    for j in i:\n",
    "        all_western.append(j)\n",
    "        \n",
    "for i in all_terms_drama:\n",
    "    for j in i:\n",
    "        all_drama.append(j)\n",
    "        \n",
    "for i in all_terms_doc:\n",
    "    for j in i:\n",
    "        all_doc.append(j)"
   ]
  },
  {
   "cell_type": "code",
   "execution_count": 284,
   "metadata": {},
   "outputs": [],
   "source": [
    "# counting occurrences of each term in each genre\n",
    "\n",
    "cnt_horror = Counter()\n",
    "cnt_comedy = Counter()\n",
    "cnt_drama = Counter()\n",
    "cnt_doc = Counter()\n",
    "cnt_western = Counter()\n",
    "\n",
    "for word in all_horror:\n",
    "    cnt_horror[word] += 1\n",
    "    \n",
    "for word in all_comedy:\n",
    "    cnt_comedy[word] += 1\n",
    "    \n",
    "for word in all_drama:\n",
    "    cnt_drama[word] += 1\n",
    "    \n",
    "for word in all_doc:\n",
    "    cnt_doc[word] += 1\n",
    "    \n",
    "for word in all_western:\n",
    "    cnt_western[word] += 1\n"
   ]
  },
  {
   "cell_type": "code",
   "execution_count": 286,
   "metadata": {},
   "outputs": [],
   "source": [
    "# calculating probs of each term in each genre\n",
    "\n",
    "dic_horror, dic_comedy, dic_western, dic_doc, dic_drama = {},{},{},{},{}\n",
    "\n",
    "for i in all_horror:\n",
    "    dic_horror[i] = cnt_horror[i]/len(cnt_horror)\n",
    "    \n",
    "for i in all_comedy:\n",
    "    dic_comedy[i] = cnt_comedy[i]/len(cnt_comedy)\n",
    "    \n",
    "for i in all_western:\n",
    "    dic_western[i] = cnt_western[i]/len(cnt_western)\n",
    "    \n",
    "for i in all_doc:\n",
    "    dic_doc[i] = cnt_doc[i]/len(cnt_doc)\n",
    "    \n",
    "for i in all_drama:\n",
    "    dic_drama[i] = cnt_drama[i]/len(cnt_drama)"
   ]
  },
  {
   "cell_type": "code",
   "execution_count": 287,
   "metadata": {},
   "outputs": [
    {
     "data": {
      "text/plain": [
       "(0.013026149509089141,\n",
       " 0.007989070713670518,\n",
       " 0.013307693988593406,\n",
       " 0.002160974918520618,\n",
       " 0.0022414671421293938)"
      ]
     },
     "execution_count": 287,
     "metadata": {},
     "output_type": "execute_result"
    }
   ],
   "source": [
    "dic_horror['night'], dic_comedy['night'], dic_drama['night'], dic_doc['night'], dic_western['night']"
   ]
  },
  {
   "cell_type": "markdown",
   "metadata": {},
   "source": [
    "## Testing"
   ]
  },
  {
   "cell_type": "code",
   "execution_count": 492,
   "metadata": {},
   "outputs": [],
   "source": [
    "# reading tsv test file\n",
    "\n",
    "tsv_file_test = open(\"film-genres-test.tsv\", encoding='utf-8')\n",
    "read_tsv_test = csv.reader(tsv_file_test, delimiter=\"\\t\")"
   ]
  },
  {
   "cell_type": "code",
   "execution_count": 493,
   "metadata": {},
   "outputs": [],
   "source": [
    "# removing stopwords and tokenizing\n",
    "\n",
    "data_test = []\n",
    "\n",
    "for row in read_tsv_test:\n",
    "    \n",
    "    desc = row[1]\n",
    "    tokenizer = nltk.RegexpTokenizer(r\"\\w+\")\n",
    "    text_tokens = tokenizer.tokenize(desc)\n",
    "    \n",
    "    tokens_without_sw = [word for word in text_tokens if word.lower() not in stop_words]  # if word.lower() condition to remove words like 'An/an', 'The/the'\n",
    "    \n",
    "    row[1] = tokens_without_sw\n",
    "    \n",
    "    data_test.append(row)"
   ]
  },
  {
   "cell_type": "code",
   "execution_count": 519,
   "metadata": {},
   "outputs": [],
   "source": [
    "# counting occurences of genres\n",
    "\n",
    "total_horror_genre_test, total_comedy_genre_test, total_drama_genre_test, total_doc_genre_test, total_western_genre_test = 0,0,0,0,0\n",
    "\n",
    "for i in data_test:\n",
    "    if i[0] == 'Horror':\n",
    "        total_horror_genre_test += 1\n",
    "    if i[0] == 'Drama':\n",
    "        total_drama_genre_test += 1\n",
    "    if i[0] == 'Comedy':\n",
    "        total_comedy_genre_test += 1\n",
    "    if i[0] == 'Documentary':\n",
    "        total_doc_genre_test += 1\n",
    "    if i[0] == 'Western':\n",
    "        total_western_genre_test += 1"
   ]
  },
  {
   "cell_type": "code",
   "execution_count": 540,
   "metadata": {},
   "outputs": [
    {
     "data": {
      "text/plain": [
       "267"
      ]
     },
     "execution_count": 540,
     "metadata": {},
     "output_type": "execute_result"
    }
   ],
   "source": [
    "total_horror_genre_test"
   ]
  },
  {
   "cell_type": "code",
   "execution_count": 494,
   "metadata": {},
   "outputs": [],
   "source": [
    "# calculating probs of every row in Horror\n",
    "\n",
    "dic_test_horror = {}\n",
    "c = 0\n",
    "prob = 0\n",
    "\n",
    "for row in data_test:\n",
    "    for term in row[1]:\n",
    "        \n",
    "        if term in dic_horror:\n",
    "            if prob == 0:\n",
    "                prob = dic_horror[term]\n",
    "            else:\n",
    "                prob *= dic_horror[term]\n",
    "\n",
    "        else:\n",
    "            if prob == 0:\n",
    "                prob = 1  # considering prob of absent terms as 1\n",
    "#                 prob = (0+0.1)/(len(cnt_horror)+0.1)  # not calculating log(2) because it gives negative values \n",
    "\n",
    "            else:\n",
    "                prob *= 1\n",
    "#                 prob *= (0+0.1)/(len(cnt_horror)+0.1)  # not calculating log(2) because it gives negative values \n",
    "        \n",
    "    prob * total_horror_genre\n",
    "    \n",
    "    dic_test_horror[c] = prob\n",
    "    c += 1"
   ]
  },
  {
   "cell_type": "code",
   "execution_count": 495,
   "metadata": {},
   "outputs": [],
   "source": [
    "# print(dic_test_horror)"
   ]
  },
  {
   "cell_type": "code",
   "execution_count": 496,
   "metadata": {},
   "outputs": [],
   "source": [
    "# calculating probs of every row in Comedy\n",
    "\n",
    "dic_test_comedy = {}\n",
    "c = 0\n",
    "prob = 0\n",
    "\n",
    "for row in data_test:\n",
    "\n",
    "    for term in row[1]:\n",
    "        \n",
    "        if term in dic_comedy:\n",
    "            if prob == 0:\n",
    "                prob = dic_comedy[term]\n",
    "            else:\n",
    "                prob *= dic_comedy[term]\n",
    "        else:\n",
    "            if prob == 0:\n",
    "                prob = 1  # considering prob of absent terms as 1\n",
    "#                 prob = (0+0.1)/(len(cnt_comedy)+0.1)  # not calculating log(2) because it gives negative values \n",
    "                \n",
    "            else:\n",
    "                prob *= 1\n",
    "#                 prob *= (0+0.1)/(len(cnt_comedy)+0.1)  # not calculating log(2) because it gives negative values \n",
    "        \n",
    "    prob * total_comedy_genre\n",
    "    \n",
    "    dic_test_comedy[c] = prob\n",
    "    c += 1"
   ]
  },
  {
   "cell_type": "code",
   "execution_count": 497,
   "metadata": {},
   "outputs": [],
   "source": [
    "# calculating probs of every row in Drama\n",
    "\n",
    "dic_test_drama = {}\n",
    "c = 0\n",
    "prob = 0\n",
    "\n",
    "for row in data_test:\n",
    "\n",
    "    for term in row[1]:\n",
    "        \n",
    "        if term in dic_drama:\n",
    "            if prob == 0:\n",
    "                prob = dic_drama[term]\n",
    "            else:\n",
    "                prob *= dic_drama[term]\n",
    "        else:\n",
    "            if prob == 0:\n",
    "                prob = 1 # considering prob of absent terms as 1\n",
    "#                 prob = (0+0.1)/(len(cnt_drama)+0.1)  # not calculating log(2) because it gives negative values \n",
    "                \n",
    "            else:\n",
    "                prob *= 1\n",
    "#                 prob *= (0+0.1)/(len(cnt_drama)+0.1)  # not calculating log(2) because it gives negative values \n",
    "        \n",
    "    prob * total_drama_genre\n",
    "    \n",
    "    dic_test_drama[c] = prob\n",
    "    c += 1"
   ]
  },
  {
   "cell_type": "code",
   "execution_count": 498,
   "metadata": {},
   "outputs": [],
   "source": [
    "# calculating probs of every row in Documentary\n",
    "\n",
    "dic_test_doc = {}\n",
    "c = 0\n",
    "prob = 0\n",
    "\n",
    "for row in data_test:\n",
    "    \n",
    "    for term in row[1]:        \n",
    "        if term in dic_doc:\n",
    "            if prob == 0:\n",
    "                prob = dic_doc[term]\n",
    "            else:\n",
    "                prob *= dic_doc[term]\n",
    "        else:\n",
    "            if prob == 0:\n",
    "                prob = 1  # considering prob of absent terms as 1\n",
    "#                 prob = (0+0.1)/(len(cnt_doc)+0.1)  # not calculating log(2) because it gives negative values \n",
    "                \n",
    "            else:\n",
    "                prob *= 1\n",
    "#                 prob *= (0+0.1)/(len(cnt_doc)+0.1)  # not calculating log(2) because it gives negative values \n",
    "        \n",
    "    prob * total_doc_genre\n",
    "    \n",
    "    dic_test_doc[c] = prob\n",
    "    \n",
    "    c += 1"
   ]
  },
  {
   "cell_type": "code",
   "execution_count": 500,
   "metadata": {},
   "outputs": [],
   "source": [
    "# calculating probs of every row in Western\n",
    "\n",
    "dic_test_western = {}\n",
    "c = 0\n",
    "prob = 0\n",
    "\n",
    "for row in data_test:\n",
    "    \n",
    "    for term in row[1]:\n",
    "        \n",
    "        if term in dic_western:\n",
    "            if prob == 0:\n",
    "                prob = dic_western[term]\n",
    "            else:\n",
    "                prob *= dic_western[term]\n",
    "        else:\n",
    "            if prob == 0:\n",
    "                prob = 1  # considering prob of absent terms as 1\n",
    "#                 prob = (0+0.1)/(len(cnt_western)+0.1)  # not calculating log(2) because it gives negative values \n",
    "                \n",
    "            else:\n",
    "#                 prob *= (0+0.1)/(len(cnt_western)+0.1)  # not calculating log(2) because it gives negative values \n",
    "                prob *= 1\n",
    "        \n",
    "    prob * total_western_genre\n",
    "    \n",
    "    dic_test_western[c] = prob\n",
    "    c += 1"
   ]
  },
  {
   "cell_type": "code",
   "execution_count": 501,
   "metadata": {},
   "outputs": [],
   "source": [
    "# Finding max prob of each row and predicting label\n",
    "\n",
    "dic_chk_label = {}\n",
    "\n",
    "for i in range(len(dic_test_horror)):\n",
    "    val = max(dic_test_horror[i],dic_test_comedy[i],dic_test_drama[i],dic_test_doc[i],dic_test_western[i])\n",
    "    if val == dic_test_horror[i]:\n",
    "        label = 'Horror'\n",
    "        dic_chk_label[i] = label\n",
    "    elif val == dic_test_comedy[i]:\n",
    "        label = 'Comedy'\n",
    "        dic_chk_label[i] = label\n",
    "    if val == dic_test_drama[i]:\n",
    "        label = 'Drama'\n",
    "        dic_chk_label[i] = label\n",
    "    if val == dic_test_doc[i]:\n",
    "        label = 'Documentary'\n",
    "        dic_chk_label[i] = label\n",
    "    if val == dic_test_western[i]:\n",
    "        label = 'Western'\n",
    "        dic_chk_label[i] = label"
   ]
  },
  {
   "cell_type": "markdown",
   "metadata": {},
   "source": [
    "## Results"
   ]
  },
  {
   "cell_type": "code",
   "execution_count": 588,
   "metadata": {},
   "outputs": [],
   "source": [
    "count_yes, count_no, count_horror, count_comedy, count_drama, count_western, count_doc = 0,0,0,0,0,0,0\n",
    "exp_horror, pred_horror, exp_comedy, pred_comedy, exp_drama, pred_drama = [],[],[],[],[],[]\n",
    "exp_doc, pred_doc, exp_western, pred_western = [],[],[],[]\n",
    "exp,pred = [],[]\n",
    "\n",
    "for i in range(len(data_test)):\n",
    "        \n",
    "    exp.append(data_test[i][0])\n",
    "    pred.append(dic_chk_label[i])\n",
    "    \n",
    "    if data_test[i][0] == dic_chk_label[i]:\n",
    "        \n",
    "        count_yes+=1\n",
    "        \n",
    "        if data_test[i][0] == 'Horror':\n",
    "            exp_horror.append(data_test[i][0])\n",
    "            pred_horror.append(dic_chk_label[i])\n",
    "            count_horror+=1\n",
    "            \n",
    "        if data_test[i][0] == 'Comedy':\n",
    "            exp_comedy.append(data_test[i][0])\n",
    "            pred_comedy.append(dic_chk_label[i])\n",
    "            count_comedy+=1\n",
    "            \n",
    "        if data_test[i][0] == 'Drama':\n",
    "            exp_drama.append(data_test[i][0])\n",
    "            pred_drama.append(dic_chk_label[i])\n",
    "            count_drama+=1\n",
    "            \n",
    "        if data_test[i][0] == 'Western':\n",
    "            exp_western.append(data_test[i][0])\n",
    "            pred_western.append(dic_chk_label[i])\n",
    "            count_western+=1\n",
    "            \n",
    "        if data_test[i][0] == 'Documentary':\n",
    "            exp_doc.append(data_test[i][0])\n",
    "            pred_doc.append(dic_chk_label[i])\n",
    "            count_doc+=1\n",
    "            \n",
    "    else:\n",
    "        count_no += 1\n"
   ]
  },
  {
   "cell_type": "code",
   "execution_count": 589,
   "metadata": {},
   "outputs": [
    {
     "name": "stdout",
     "output_type": "stream",
     "text": [
      "Correct horror predictions =  56  out of  267\n",
      "Correct comedy predictions =  278  out of  1207\n",
      "Correct drama predictions =  456  out of  2348\n",
      "Correct documentary predictions =  110  out of  691\n",
      "Correct western predictions =  54  out of  239\n"
     ]
    }
   ],
   "source": [
    "print('Correct horror predictions = ', count_horror, ' out of ',total_horror_genre_test)\n",
    "print('Correct comedy predictions = ',count_comedy, ' out of ',total_comedy_genre_test)\n",
    "print('Correct drama predictions = ',count_drama, ' out of ',total_drama_genre_test)\n",
    "print('Correct documentary predictions = ',count_doc, ' out of ',total_doc_genre_test)\n",
    "print('Correct western predictions = ',count_western, ' out of ',total_western_genre_test)"
   ]
  },
  {
   "cell_type": "code",
   "execution_count": 590,
   "metadata": {},
   "outputs": [
    {
     "name": "stdout",
     "output_type": "stream",
     "text": [
      "Overall correctly predicted:  954 Overall not correctly predicted:  3798\n"
     ]
    }
   ],
   "source": [
    "print('Overall correctly predicted: ',count_yes, 'Overall not correctly predicted: ',count_no)\n",
    "\n",
    "# EVEN IF I USE EPSILON IT GIVES THE SAME RESULTS"
   ]
  },
  {
   "cell_type": "code",
   "execution_count": 591,
   "metadata": {},
   "outputs": [],
   "source": [
    "cm_h = confusion_matrix(exp_horror, pred_horror)\n",
    "cm_c = confusion_matrix(exp_comedy, pred_comedy)\n",
    "cm_doc = confusion_matrix(exp_doc, pred_doc)\n",
    "cm_drama = confusion_matrix(exp_drama, pred_drama)\n",
    "cm_w = confusion_matrix(exp_western, pred_western)"
   ]
  },
  {
   "cell_type": "code",
   "execution_count": 592,
   "metadata": {},
   "outputs": [
    {
     "data": {
      "image/png": "[encoded data removed]",
      "text/plain": [
       "<Figure size 432x288 with 2 Axes>"
      ]
     },
     "metadata": {
      "needs_background": "light"
     },
     "output_type": "display_data"
    },
    {
     "data": {
      "text/plain": [
       "<Figure size 432x288 with 0 Axes>"
      ]
     },
     "metadata": {},
     "output_type": "display_data"
    }
   ],
   "source": [
    "labels = ['horror'] \n",
    "\n",
    "disp = ConfusionMatrixDisplay(confusion_matrix=cm_h, display_labels=labels) \n",
    "\n",
    "disp.plot(cmap=plt.cm.Blues) \n",
    "\n",
    "fig1 = plt.gcf()\n",
    "plt.show()\n",
    "plt.draw()"
   ]
  },
  {
   "cell_type": "code",
   "execution_count": 593,
   "metadata": {},
   "outputs": [
    {
     "data": {
      "image/png": "[encoded data removed]",
      "text/plain": [
       "<Figure size 432x288 with 2 Axes>"
      ]
     },
     "metadata": {
      "needs_background": "light"
     },
     "output_type": "display_data"
    },
    {
     "data": {
      "text/plain": [
       "<Figure size 432x288 with 0 Axes>"
      ]
     },
     "metadata": {},
     "output_type": "display_data"
    }
   ],
   "source": [
    "labels = ['comedy'] \n",
    "\n",
    "disp = ConfusionMatrixDisplay(confusion_matrix=cm_c, display_labels=labels) \n",
    "\n",
    "disp.plot(cmap=plt.cm.Blues) \n",
    "\n",
    "fig1 = plt.gcf()\n",
    "plt.show()\n",
    "plt.draw()"
   ]
  },
  {
   "cell_type": "code",
   "execution_count": 594,
   "metadata": {},
   "outputs": [
    {
     "data": {
      "image/png": "[encoded data removed]",
      "text/plain": [
       "<Figure size 432x288 with 2 Axes>"
      ]
     },
     "metadata": {
      "needs_background": "light"
     },
     "output_type": "display_data"
    },
    {
     "data": {
      "text/plain": [
       "<Figure size 432x288 with 0 Axes>"
      ]
     },
     "metadata": {},
     "output_type": "display_data"
    }
   ],
   "source": [
    "labels = ['drama'] \n",
    "\n",
    "disp = ConfusionMatrixDisplay(confusion_matrix=cm_drama, display_labels=labels) \n",
    "\n",
    "disp.plot(cmap=plt.cm.Blues) \n",
    "\n",
    "fig1 = plt.gcf()\n",
    "plt.show()\n",
    "plt.draw()"
   ]
  },
  {
   "cell_type": "code",
   "execution_count": 595,
   "metadata": {},
   "outputs": [
    {
     "data": {
      "image/png": "[encoded data removed]",
      "text/plain": [
       "<Figure size 432x288 with 2 Axes>"
      ]
     },
     "metadata": {
      "needs_background": "light"
     },
     "output_type": "display_data"
    },
    {
     "data": {
      "text/plain": [
       "<Figure size 432x288 with 0 Axes>"
      ]
     },
     "metadata": {},
     "output_type": "display_data"
    }
   ],
   "source": [
    "labels = ['documentary'] \n",
    "\n",
    "disp = ConfusionMatrixDisplay(confusion_matrix=cm_doc, display_labels=labels) \n",
    "\n",
    "disp.plot(cmap=plt.cm.Blues) \n",
    "\n",
    "fig1 = plt.gcf()\n",
    "plt.show()\n",
    "plt.draw()"
   ]
  },
  {
   "cell_type": "code",
   "execution_count": 596,
   "metadata": {},
   "outputs": [
    {
     "data": {
      "image/png": "[encoded data removed]",
      "text/plain": [
       "<Figure size 432x288 with 2 Axes>"
      ]
     },
     "metadata": {
      "needs_background": "light"
     },
     "output_type": "display_data"
    },
    {
     "data": {
      "text/plain": [
       "<Figure size 432x288 with 0 Axes>"
      ]
     },
     "metadata": {},
     "output_type": "display_data"
    }
   ],
   "source": [
    "labels = ['western'] \n",
    "\n",
    "disp = ConfusionMatrixDisplay(confusion_matrix=cm_w, display_labels=labels) \n",
    "\n",
    "disp.plot(cmap=plt.cm.Blues) \n",
    "\n",
    "fig1 = plt.gcf()\n",
    "plt.show()\n",
    "plt.draw()"
   ]
  },
  {
   "cell_type": "code",
   "execution_count": 598,
   "metadata": {},
   "outputs": [
    {
     "name": "stdout",
     "output_type": "stream",
     "text": [
      "Precision:  0.2041396049658674\n",
      "Recall:  0.20387995644919873\n",
      "Accuracy:  0.20075757575757575\n"
     ]
    }
   ],
   "source": [
    "print('Precision: ',precision_score(exp, pred, average=\"macro\"))\n",
    "print('Recall: ',recall_score(exp, pred, average=\"macro\"))\n",
    "print('Accuracy: ',accuracy_score(exp, pred))"
   ]
  },
  {
   "cell_type": "code",
   "execution_count": null,
   "metadata": {},
   "outputs": [],
   "source": []
  }
 ],
 "metadata": {
  "kernelspec": {
   "display_name": "Python 3",
   "language": "python",
   "name": "python3"
  },
  "language_info": {
   "codemirror_mode": {
    "name": "ipython",
    "version": 3
   },
   "file_extension": ".py",
   "mimetype": "text/x-python",
   "name": "python",
   "nbconvert_exporter": "python",
   "pygments_lexer": "ipython3",
   "version": "3.7.4"
  }
 },
 "nbformat": 4,
 "nbformat_minor": 2
}
